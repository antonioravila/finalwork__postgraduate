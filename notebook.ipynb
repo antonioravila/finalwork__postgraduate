{
 "cells": [
  {
   "cell_type": "markdown",
   "metadata": {},
   "source": [
    "## Bibliotecas"
   ]
  },
  {
   "cell_type": "code",
   "execution_count": 39,
   "metadata": {},
   "outputs": [],
   "source": [
    "import pandas as pd\n",
    "import requests\n",
    "import tweepy\n",
    "import json\n",
    "import http.client, urllib.parse # teste"
   ]
  },
  {
   "cell_type": "markdown",
   "metadata": {},
   "source": [
    "## News API v2 (paid)"
   ]
  },
  {
   "cell_type": "code",
   "execution_count": 40,
   "metadata": {},
   "outputs": [
    {
     "data": {
      "text/html": [
       "<div>\n",
       "<style scoped>\n",
       "    .dataframe tbody tr th:only-of-type {\n",
       "        vertical-align: middle;\n",
       "    }\n",
       "\n",
       "    .dataframe tbody tr th {\n",
       "        vertical-align: top;\n",
       "    }\n",
       "\n",
       "    .dataframe thead th {\n",
       "        text-align: right;\n",
       "    }\n",
       "</style>\n",
       "<table border=\"1\" class=\"dataframe\">\n",
       "  <thead>\n",
       "    <tr style=\"text-align: right;\">\n",
       "      <th></th>\n",
       "      <th>author</th>\n",
       "      <th>title</th>\n",
       "      <th>description</th>\n",
       "      <th>url</th>\n",
       "      <th>urlToImage</th>\n",
       "      <th>publishedAt</th>\n",
       "      <th>content</th>\n",
       "      <th>source.id</th>\n",
       "      <th>source.name</th>\n",
       "    </tr>\n",
       "  </thead>\n",
       "  <tbody>\n",
       "    <tr>\n",
       "      <th>0</th>\n",
       "      <td>https://www.facebook.com/bbcnews</td>\n",
       "      <td>South Africa's genocide case against Israel: B...</td>\n",
       "      <td>After two days of legal argument, judges must ...</td>\n",
       "      <td>https://www.bbc.co.uk/news/world-middle-east-6...</td>\n",
       "      <td>https://ichef.bbci.co.uk/news/1024/branded_new...</td>\n",
       "      <td>2024-01-12T20:59:40Z</td>\n",
       "      <td>The UN's top legal body has now heard two days...</td>\n",
       "      <td>bbc-news</td>\n",
       "      <td>BBC News</td>\n",
       "    </tr>\n",
       "    <tr>\n",
       "      <th>1</th>\n",
       "      <td>https://www.facebook.com/bbcnews</td>\n",
       "      <td>UN court to hear South Africa genocide case ag...</td>\n",
       "      <td>Israel rejects South Africa's accusation that ...</td>\n",
       "      <td>https://www.bbc.co.uk/news/world-middle-east-6...</td>\n",
       "      <td>https://ichef.bbci.co.uk/news/1024/branded_new...</td>\n",
       "      <td>2024-01-11T07:16:13Z</td>\n",
       "      <td>The UN's International Court of Justice will b...</td>\n",
       "      <td>bbc-news</td>\n",
       "      <td>BBC News</td>\n",
       "    </tr>\n",
       "  </tbody>\n",
       "</table>\n",
       "</div>"
      ],
      "text/plain": [
       "                             author  \\\n",
       "0  https://www.facebook.com/bbcnews   \n",
       "1  https://www.facebook.com/bbcnews   \n",
       "\n",
       "                                               title  \\\n",
       "0  South Africa's genocide case against Israel: B...   \n",
       "1  UN court to hear South Africa genocide case ag...   \n",
       "\n",
       "                                         description  \\\n",
       "0  After two days of legal argument, judges must ...   \n",
       "1  Israel rejects South Africa's accusation that ...   \n",
       "\n",
       "                                                 url  \\\n",
       "0  https://www.bbc.co.uk/news/world-middle-east-6...   \n",
       "1  https://www.bbc.co.uk/news/world-middle-east-6...   \n",
       "\n",
       "                                          urlToImage           publishedAt  \\\n",
       "0  https://ichef.bbci.co.uk/news/1024/branded_new...  2024-01-12T20:59:40Z   \n",
       "1  https://ichef.bbci.co.uk/news/1024/branded_new...  2024-01-11T07:16:13Z   \n",
       "\n",
       "                                             content source.id source.name  \n",
       "0  The UN's top legal body has now heard two days...  bbc-news    BBC News  \n",
       "1  The UN's International Court of Justice will b...  bbc-news    BBC News  "
      ]
     },
     "execution_count": 40,
     "metadata": {},
     "output_type": "execute_result"
    }
   ],
   "source": [
    "url = ('https://newsapi.org/v2/everything?'\n",
    "       'q=Israel&'\n",
    "       'from=2024-01-10&'\n",
    "       'apiKey=9524ffe43abe4cee87313a1c5407e728')\n",
    "\n",
    "response = requests.get(url)\n",
    "data = response.json()\n",
    "\n",
    "with open('response_data.json', 'w') as file:\n",
    "    json.dump(data, file)\n",
    "\n",
    "df = pd.read_json('response_data.json')\n",
    "df.head()\n",
    "\n",
    "df = pd.json_normalize(data=data['articles'])\n",
    "df.head(2)"
   ]
  },
  {
   "cell_type": "markdown",
   "metadata": {},
   "source": [
    "## The News API (paid)"
   ]
  },
  {
   "cell_type": "code",
   "execution_count": 48,
   "metadata": {},
   "outputs": [],
   "source": [
    "conn = http.client.HTTPSConnection('api.thenewsapi.com')\n",
    "\n",
    "params = urllib.parse.urlencode({\n",
    "    'api_token': 'R3W0RBozHOAtLMuyDb6QDtHLNcbcg2ebyILARam9',\n",
    "    'categories': 'business,tech'\n",
    "    })\n",
    "\n",
    "conn.request('GET', '/v1/news/all?{}'.format(params))\n",
    "\n",
    "response = conn.getresponse()\n",
    "data = response.read()\n"
   ]
  },
  {
   "cell_type": "code",
   "execution_count": 49,
   "metadata": {},
   "outputs": [
    {
     "name": "stdout",
     "output_type": "stream",
     "text": [
      "JSON data saved to news_data.json\n"
     ]
    }
   ],
   "source": [
    "if response.status == 200:\n",
    "    json_data = json.loads(data.decode('utf-8'))\n",
    "\n",
    "    json_filename = 'news_data.json'\n",
    "\n",
    "    # Save the JSON data to a file\n",
    "    with open(json_filename, 'w', encoding='utf-8') as file:\n",
    "        file.write(data.decode('utf-8'))\n",
    "    \n",
    "    print(f\"JSON data saved to {json_filename}\")    \n"
   ]
  },
  {
   "cell_type": "code",
   "execution_count": 51,
   "metadata": {},
   "outputs": [
    {
     "name": "stderr",
     "output_type": "stream",
     "text": [
      "C:\\Users\\anton\\AppData\\Local\\Temp\\ipykernel_3576\\2151330495.py:1: FutureWarning: Passing literal json to 'read_json' is deprecated and will be removed in a future version. To read from a literal string, wrap it in a 'StringIO' object.\n",
      "  df = pd.read_json(json.dumps(json_data['data']))\n"
     ]
    },
    {
     "data": {
      "text/html": [
       "<div>\n",
       "<style scoped>\n",
       "    .dataframe tbody tr th:only-of-type {\n",
       "        vertical-align: middle;\n",
       "    }\n",
       "\n",
       "    .dataframe tbody tr th {\n",
       "        vertical-align: top;\n",
       "    }\n",
       "\n",
       "    .dataframe thead th {\n",
       "        text-align: right;\n",
       "    }\n",
       "</style>\n",
       "<table border=\"1\" class=\"dataframe\">\n",
       "  <thead>\n",
       "    <tr style=\"text-align: right;\">\n",
       "      <th></th>\n",
       "      <th>uuid</th>\n",
       "      <th>title</th>\n",
       "      <th>description</th>\n",
       "      <th>keywords</th>\n",
       "      <th>snippet</th>\n",
       "      <th>url</th>\n",
       "      <th>image_url</th>\n",
       "      <th>language</th>\n",
       "      <th>published_at</th>\n",
       "      <th>source</th>\n",
       "      <th>categories</th>\n",
       "      <th>relevance_score</th>\n",
       "    </tr>\n",
       "  </thead>\n",
       "  <tbody>\n",
       "    <tr>\n",
       "      <th>0</th>\n",
       "      <td>0e5f333a-fa63-4b29-93d3-0454995b3674</td>\n",
       "      <td>RAI Ufficio Stampa</td>\n",
       "      <td>Gli ospiti di sabato e domenica</td>\n",
       "      <td></td>\n",
       "      <td>Con l’analisi delle notizie più rilevanti dell...</td>\n",
       "      <td>https://www.rai.it/ufficiostampa/assets/templa...</td>\n",
       "      <td>https://www.rai.it/ufficiostampa/assets/images...</td>\n",
       "      <td>it</td>\n",
       "      <td>2024-02-03 19:15:00+00:00</td>\n",
       "      <td>rai.it</td>\n",
       "      <td>[business]</td>\n",
       "      <td>NaN</td>\n",
       "    </tr>\n",
       "    <tr>\n",
       "      <th>1</th>\n",
       "      <td>f4492b61-ac77-4d4d-b808-d77d2cff4912</td>\n",
       "      <td>Симулятор жизни Life by You опять отложили — н...</td>\n",
       "      <td>Студия объявила об очередном переносе запуска ...</td>\n",
       "      <td></td>\n",
       "      <td>Студия объявила об очередном переносе запуска ...</td>\n",
       "      <td>https://shazoo.ru/2024/02/03/153152/simuliator...</td>\n",
       "      <td>https://cdn.shazoo.ru/733004_2C49alm_wjwwypunh...</td>\n",
       "      <td>ru</td>\n",
       "      <td>2024-02-03 19:13:44+00:00</td>\n",
       "      <td>shazoo.ru</td>\n",
       "      <td>[tech]</td>\n",
       "      <td>NaN</td>\n",
       "    </tr>\n",
       "    <tr>\n",
       "      <th>2</th>\n",
       "      <td>7568da52-15ef-4f77-bfa9-a2ccb4c2c5d3</td>\n",
       "      <td>充绒量至高233g：美特斯邦威羽绒服169元起清仓（46款可选）</td>\n",
       "      <td>充绒量至高233g：美特斯邦威羽绒服169元起清仓（46款可选）</td>\n",
       "      <td>衣服, 羽绒服, 美特斯邦威, 充绒量至高233g：美特斯邦威羽绒服169元起清仓（46款可...</td>\n",
       "      <td>作者私密文章，无浏览权限\\n\\n因版权限制，过往内容只提供给老鸟级别及以上用户访问</td>\n",
       "      <td>https://news.mydrivers.com/1/962/962186.htm</td>\n",
       "      <td>https://img1.mydrivers.com/img/20240203/1cfd0a...</td>\n",
       "      <td>zh</td>\n",
       "      <td>2024-02-03 19:09:06+00:00</td>\n",
       "      <td>news.mydrivers.com</td>\n",
       "      <td>[tech, general]</td>\n",
       "      <td>NaN</td>\n",
       "    </tr>\n",
       "  </tbody>\n",
       "</table>\n",
       "</div>"
      ],
      "text/plain": [
       "                                   uuid  \\\n",
       "0  0e5f333a-fa63-4b29-93d3-0454995b3674   \n",
       "1  f4492b61-ac77-4d4d-b808-d77d2cff4912   \n",
       "2  7568da52-15ef-4f77-bfa9-a2ccb4c2c5d3   \n",
       "\n",
       "                                               title  \\\n",
       "0                                 RAI Ufficio Stampa   \n",
       "1  Симулятор жизни Life by You опять отложили — н...   \n",
       "2                   充绒量至高233g：美特斯邦威羽绒服169元起清仓（46款可选）   \n",
       "\n",
       "                                         description  \\\n",
       "0                    Gli ospiti di sabato e domenica   \n",
       "1  Студия объявила об очередном переносе запуска ...   \n",
       "2                   充绒量至高233g：美特斯邦威羽绒服169元起清仓（46款可选）   \n",
       "\n",
       "                                            keywords  \\\n",
       "0                                                      \n",
       "1                                                      \n",
       "2  衣服, 羽绒服, 美特斯邦威, 充绒量至高233g：美特斯邦威羽绒服169元起清仓（46款可...   \n",
       "\n",
       "                                             snippet  \\\n",
       "0  Con l’analisi delle notizie più rilevanti dell...   \n",
       "1  Студия объявила об очередном переносе запуска ...   \n",
       "2          作者私密文章，无浏览权限\\n\\n因版权限制，过往内容只提供给老鸟级别及以上用户访问   \n",
       "\n",
       "                                                 url  \\\n",
       "0  https://www.rai.it/ufficiostampa/assets/templa...   \n",
       "1  https://shazoo.ru/2024/02/03/153152/simuliator...   \n",
       "2        https://news.mydrivers.com/1/962/962186.htm   \n",
       "\n",
       "                                           image_url language  \\\n",
       "0  https://www.rai.it/ufficiostampa/assets/images...       it   \n",
       "1  https://cdn.shazoo.ru/733004_2C49alm_wjwwypunh...       ru   \n",
       "2  https://img1.mydrivers.com/img/20240203/1cfd0a...       zh   \n",
       "\n",
       "               published_at              source       categories  \\\n",
       "0 2024-02-03 19:15:00+00:00              rai.it       [business]   \n",
       "1 2024-02-03 19:13:44+00:00           shazoo.ru           [tech]   \n",
       "2 2024-02-03 19:09:06+00:00  news.mydrivers.com  [tech, general]   \n",
       "\n",
       "   relevance_score  \n",
       "0              NaN  \n",
       "1              NaN  \n",
       "2              NaN  "
      ]
     },
     "execution_count": 51,
     "metadata": {},
     "output_type": "execute_result"
    }
   ],
   "source": [
    "df = pd.read_json(json.dumps(json_data['data']))\n",
    "df.head()"
   ]
  }
 ],
 "metadata": {
  "kernelspec": {
   "display_name": "env",
   "language": "python",
   "name": "python3"
  },
  "language_info": {
   "codemirror_mode": {
    "name": "ipython",
    "version": 3
   },
   "file_extension": ".py",
   "mimetype": "text/x-python",
   "name": "python",
   "nbconvert_exporter": "python",
   "pygments_lexer": "ipython3",
   "version": "3.10.7"
  }
 },
 "nbformat": 4,
 "nbformat_minor": 2
}
