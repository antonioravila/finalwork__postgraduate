{
 "cells": [
  {
   "cell_type": "code",
   "execution_count": 1,
   "metadata": {},
   "outputs": [],
   "source": [
    "import pandas as pd\n",
    "import tarfile\n",
    "import csv\n",
    "from nltk.tokenize import word_tokenize\n",
    "import nltk\n",
    "from nltk.sentiment import SentimentIntensityAnalyzer\n",
    "import pandas as pd\n",
    "import matplotlib.pyplot as plt\n",
    "import seaborn as sns"
   ]
  },
  {
   "cell_type": "markdown",
   "metadata": {},
   "source": [
    "# META DATA"
   ]
  },
  {
   "cell_type": "code",
   "execution_count": 2,
   "metadata": {},
   "outputs": [],
   "source": [
    "meta_speaker = pd.read_csv('speaker.tsv',  sep='\\t')\n",
    "meta_session = pd.read_csv('meta.tsv',  sep='\\t')"
   ]
  },
  {
   "cell_type": "code",
   "execution_count": 3,
   "metadata": {},
   "outputs": [
    {
     "data": {
      "text/html": [
       "<div>\n",
       "<style scoped>\n",
       "    .dataframe tbody tr th:only-of-type {\n",
       "        vertical-align: middle;\n",
       "    }\n",
       "\n",
       "    .dataframe tbody tr th {\n",
       "        vertical-align: top;\n",
       "    }\n",
       "\n",
       "    .dataframe thead th {\n",
       "        text-align: right;\n",
       "    }\n",
       "</style>\n",
       "<table border=\"1\" class=\"dataframe\">\n",
       "  <thead>\n",
       "    <tr style=\"text-align: right;\">\n",
       "      <th></th>\n",
       "      <th>basename</th>\n",
       "      <th>date</th>\n",
       "      <th>num_speeches</th>\n",
       "      <th>topic</th>\n",
       "      <th>pressrelease</th>\n",
       "      <th>outcome</th>\n",
       "      <th>year</th>\n",
       "      <th>month</th>\n",
       "      <th>day</th>\n",
       "    </tr>\n",
       "  </thead>\n",
       "  <tbody>\n",
       "    <tr>\n",
       "      <th>0</th>\n",
       "      <td>UNSC_1995_SPV.3486</td>\n",
       "      <td>6 January 1995</td>\n",
       "      <td>1</td>\n",
       "      <td>Bosnia and Herzegovina</td>\n",
       "      <td>NaN</td>\n",
       "      <td>http://www.un.org/en/ga/search/view_doc.asp?sy...</td>\n",
       "      <td>1995</td>\n",
       "      <td>1</td>\n",
       "      <td>6</td>\n",
       "    </tr>\n",
       "    <tr>\n",
       "      <th>1</th>\n",
       "      <td>UNSC_1995_SPV.3487</td>\n",
       "      <td>12 January 1995</td>\n",
       "      <td>40</td>\n",
       "      <td>Federal Republic of Yugoslavia (Serbia and Mon...</td>\n",
       "      <td>NaN</td>\n",
       "      <td>http://www.un.org/en/ga/search/view_doc.asp?sy...</td>\n",
       "      <td>1995</td>\n",
       "      <td>1</td>\n",
       "      <td>12</td>\n",
       "    </tr>\n",
       "  </tbody>\n",
       "</table>\n",
       "</div>"
      ],
      "text/plain": [
       "             basename             date  num_speeches  \\\n",
       "0  UNSC_1995_SPV.3486   6 January 1995             1   \n",
       "1  UNSC_1995_SPV.3487  12 January 1995            40   \n",
       "\n",
       "                                               topic pressrelease  \\\n",
       "0                             Bosnia and Herzegovina          NaN   \n",
       "1  Federal Republic of Yugoslavia (Serbia and Mon...          NaN   \n",
       "\n",
       "                                             outcome  year  month  day  \n",
       "0  http://www.un.org/en/ga/search/view_doc.asp?sy...  1995      1    6  \n",
       "1  http://www.un.org/en/ga/search/view_doc.asp?sy...  1995      1   12  "
      ]
     },
     "execution_count": 3,
     "metadata": {},
     "output_type": "execute_result"
    }
   ],
   "source": [
    "meta_session.head(2)"
   ]
  },
  {
   "cell_type": "code",
   "execution_count": 4,
   "metadata": {},
   "outputs": [
    {
     "data": {
      "text/html": [
       "<div>\n",
       "<style scoped>\n",
       "    .dataframe tbody tr th:only-of-type {\n",
       "        vertical-align: middle;\n",
       "    }\n",
       "\n",
       "    .dataframe tbody tr th {\n",
       "        vertical-align: top;\n",
       "    }\n",
       "\n",
       "    .dataframe thead th {\n",
       "        text-align: right;\n",
       "    }\n",
       "</style>\n",
       "<table border=\"1\" class=\"dataframe\">\n",
       "  <thead>\n",
       "    <tr style=\"text-align: right;\">\n",
       "      <th></th>\n",
       "      <th>speech</th>\n",
       "      <th>country</th>\n",
       "      <th>speaker</th>\n",
       "      <th>participanttype</th>\n",
       "      <th>role_in_un</th>\n",
       "      <th>spv</th>\n",
       "      <th>basename</th>\n",
       "      <th>topic</th>\n",
       "      <th>date</th>\n",
       "      <th>year</th>\n",
       "      <th>...</th>\n",
       "      <th>filename</th>\n",
       "      <th>types</th>\n",
       "      <th>tokens</th>\n",
       "      <th>sentences</th>\n",
       "      <th>topic2</th>\n",
       "      <th>subtopic</th>\n",
       "      <th>agenda_item1</th>\n",
       "      <th>agenda_item2</th>\n",
       "      <th>agenda_item3</th>\n",
       "      <th>decision</th>\n",
       "    </tr>\n",
       "  </thead>\n",
       "  <tbody>\n",
       "    <tr>\n",
       "      <th>0</th>\n",
       "      <td>1</td>\n",
       "      <td>Argentina</td>\n",
       "      <td>Mr. Cardenas</td>\n",
       "      <td>The President</td>\n",
       "      <td>NaN</td>\n",
       "      <td>3486</td>\n",
       "      <td>UNSC_1995_SPV.3486</td>\n",
       "      <td>Bosnia and Herzegovina</td>\n",
       "      <td>6 January 1995</td>\n",
       "      <td>1995</td>\n",
       "      <td>...</td>\n",
       "      <td>UNSC_1995_SPV.3486_spch001.txt</td>\n",
       "      <td>305</td>\n",
       "      <td>862</td>\n",
       "      <td>29</td>\n",
       "      <td>Items relating to the situation in the former ...</td>\n",
       "      <td>Bosnia and Herzegovina</td>\n",
       "      <td>Europe</td>\n",
       "      <td>Former Yugoslavia</td>\n",
       "      <td>Bosnia and Herzegovina</td>\n",
       "      <td>PRST</td>\n",
       "    </tr>\n",
       "    <tr>\n",
       "      <th>1</th>\n",
       "      <td>1</td>\n",
       "      <td>Argentina</td>\n",
       "      <td>Mr. Cardenas</td>\n",
       "      <td>The President</td>\n",
       "      <td>NaN</td>\n",
       "      <td>3487</td>\n",
       "      <td>UNSC_1995_SPV.3487</td>\n",
       "      <td>Federal Republic of Yugoslavia (Serbia and Mon...</td>\n",
       "      <td>12 January 1995</td>\n",
       "      <td>1995</td>\n",
       "      <td>...</td>\n",
       "      <td>UNSC_1995_SPV.3487_spch001.txt</td>\n",
       "      <td>203</td>\n",
       "      <td>572</td>\n",
       "      <td>17</td>\n",
       "      <td>Items relating to the situation in the former ...</td>\n",
       "      <td>Bosnia and Herzegovina</td>\n",
       "      <td>Europe</td>\n",
       "      <td>Former Yugoslavia</td>\n",
       "      <td>Bosnia and Herzegovina</td>\n",
       "      <td>NaN</td>\n",
       "    </tr>\n",
       "  </tbody>\n",
       "</table>\n",
       "<p>2 rows × 22 columns</p>\n",
       "</div>"
      ],
      "text/plain": [
       "   speech    country       speaker participanttype role_in_un   spv  \\\n",
       "0       1  Argentina  Mr. Cardenas   The President        NaN  3486   \n",
       "1       1  Argentina  Mr. Cardenas   The President        NaN  3487   \n",
       "\n",
       "             basename                                              topic  \\\n",
       "0  UNSC_1995_SPV.3486                             Bosnia and Herzegovina   \n",
       "1  UNSC_1995_SPV.3487  Federal Republic of Yugoslavia (Serbia and Mon...   \n",
       "\n",
       "              date  year  ...                        filename  types tokens  \\\n",
       "0   6 January 1995  1995  ...  UNSC_1995_SPV.3486_spch001.txt    305    862   \n",
       "1  12 January 1995  1995  ...  UNSC_1995_SPV.3487_spch001.txt    203    572   \n",
       "\n",
       "   sentences                                             topic2  \\\n",
       "0         29  Items relating to the situation in the former ...   \n",
       "1         17  Items relating to the situation in the former ...   \n",
       "\n",
       "                 subtopic agenda_item1       agenda_item2  \\\n",
       "0  Bosnia and Herzegovina       Europe  Former Yugoslavia   \n",
       "1  Bosnia and Herzegovina       Europe  Former Yugoslavia   \n",
       "\n",
       "             agenda_item3 decision  \n",
       "0  Bosnia and Herzegovina     PRST  \n",
       "1  Bosnia and Herzegovina      NaN  \n",
       "\n",
       "[2 rows x 22 columns]"
      ]
     },
     "execution_count": 4,
     "metadata": {},
     "output_type": "execute_result"
    }
   ],
   "source": [
    "meta_speaker.head(2)"
   ]
  },
  {
   "cell_type": "code",
   "execution_count": 5,
   "metadata": {},
   "outputs": [
    {
     "name": "stdout",
     "output_type": "stream",
     "text": [
      "<class 'pandas.core.frame.DataFrame'>\n",
      "RangeIndex: 5748 entries, 0 to 5747\n",
      "Data columns (total 9 columns):\n",
      " #   Column        Non-Null Count  Dtype \n",
      "---  ------        --------------  ----- \n",
      " 0   basename      5748 non-null   object\n",
      " 1   date          5748 non-null   object\n",
      " 2   num_speeches  5748 non-null   int64 \n",
      " 3   topic         5748 non-null   object\n",
      " 4   pressrelease  5087 non-null   object\n",
      " 5   outcome       3038 non-null   object\n",
      " 6   year          5748 non-null   int64 \n",
      " 7   month         5748 non-null   int64 \n",
      " 8   day           5748 non-null   int64 \n",
      "dtypes: int64(4), object(5)\n",
      "memory usage: 404.3+ KB\n"
     ]
    }
   ],
   "source": [
    "meta_session.info()"
   ]
  },
  {
   "cell_type": "code",
   "execution_count": 6,
   "metadata": {},
   "outputs": [
    {
     "name": "stdout",
     "output_type": "stream",
     "text": [
      "<class 'pandas.core.frame.DataFrame'>\n",
      "RangeIndex: 82165 entries, 0 to 82164\n",
      "Data columns (total 22 columns):\n",
      " #   Column           Non-Null Count  Dtype \n",
      "---  ------           --------------  ----- \n",
      " 0   speech           82165 non-null  int64 \n",
      " 1   country          82165 non-null  object\n",
      " 2   speaker          81631 non-null  object\n",
      " 3   participanttype  82165 non-null  object\n",
      " 4   role_in_un       2697 non-null   object\n",
      " 5   spv              82165 non-null  object\n",
      " 6   basename         82165 non-null  object\n",
      " 7   topic            82165 non-null  object\n",
      " 8   date             82165 non-null  object\n",
      " 9   year             82165 non-null  int64 \n",
      " 10  month            82165 non-null  int64 \n",
      " 11  day              82165 non-null  int64 \n",
      " 12  filename         82165 non-null  object\n",
      " 13  types            82165 non-null  int64 \n",
      " 14  tokens           82165 non-null  int64 \n",
      " 15  sentences        82165 non-null  int64 \n",
      " 16  topic2           82165 non-null  object\n",
      " 17  subtopic         81901 non-null  object\n",
      " 18  agenda_item1     81901 non-null  object\n",
      " 19  agenda_item2     82165 non-null  object\n",
      " 20  agenda_item3     82165 non-null  object\n",
      " 21  decision         11718 non-null  object\n",
      "dtypes: int64(7), object(15)\n",
      "memory usage: 13.8+ MB\n"
     ]
    }
   ],
   "source": [
    "meta_speaker.info()"
   ]
  },
  {
   "cell_type": "markdown",
   "metadata": {},
   "source": [
    "# Importing speeches data"
   ]
  },
  {
   "cell_type": "code",
   "execution_count": 7,
   "metadata": {},
   "outputs": [
    {
     "data": {
      "text/html": [
       "<div>\n",
       "<style scoped>\n",
       "    .dataframe tbody tr th:only-of-type {\n",
       "        vertical-align: middle;\n",
       "    }\n",
       "\n",
       "    .dataframe tbody tr th {\n",
       "        vertical-align: top;\n",
       "    }\n",
       "\n",
       "    .dataframe thead th {\n",
       "        text-align: right;\n",
       "    }\n",
       "</style>\n",
       "<table border=\"1\" class=\"dataframe\">\n",
       "  <thead>\n",
       "    <tr style=\"text-align: right;\">\n",
       "      <th></th>\n",
       "      <th>basename</th>\n",
       "      <th>speech_id</th>\n",
       "      <th>spv</th>\n",
       "      <th>speech</th>\n",
       "    </tr>\n",
       "  </thead>\n",
       "  <tbody>\n",
       "    <tr>\n",
       "      <th>0</th>\n",
       "      <td>UNSC_1995_SPV.3486</td>\n",
       "      <td>1</td>\n",
       "      <td>3486</td>\n",
       "      <td>As this is the first meeting of the Security C...</td>\n",
       "    </tr>\n",
       "    <tr>\n",
       "      <th>1</th>\n",
       "      <td>UNSC_1995_SPV.3487</td>\n",
       "      <td>1</td>\n",
       "      <td>3487</td>\n",
       "      <td>I should like at the outset of the meeting to ...</td>\n",
       "    </tr>\n",
       "    <tr>\n",
       "      <th>2</th>\n",
       "      <td>UNSC_1995_SPV.3487</td>\n",
       "      <td>2</td>\n",
       "      <td>3487</td>\n",
       "      <td>First, Mr. President, let me welcome you to yo...</td>\n",
       "    </tr>\n",
       "    <tr>\n",
       "      <th>3</th>\n",
       "      <td>UNSC_1995_SPV.3487</td>\n",
       "      <td>3</td>\n",
       "      <td>3487</td>\n",
       "      <td>The next speaker is the representative of Croa...</td>\n",
       "    </tr>\n",
       "    <tr>\n",
       "      <th>4</th>\n",
       "      <td>UNSC_1995_SPV.3487</td>\n",
       "      <td>4</td>\n",
       "      <td>3487</td>\n",
       "      <td>Allow me, Sir, to congratulate you on your ass...</td>\n",
       "    </tr>\n",
       "  </tbody>\n",
       "</table>\n",
       "</div>"
      ],
      "text/plain": [
       "             basename  speech_id   spv  \\\n",
       "0  UNSC_1995_SPV.3486          1  3486   \n",
       "1  UNSC_1995_SPV.3487          1  3487   \n",
       "2  UNSC_1995_SPV.3487          2  3487   \n",
       "3  UNSC_1995_SPV.3487          3  3487   \n",
       "4  UNSC_1995_SPV.3487          4  3487   \n",
       "\n",
       "                                              speech  \n",
       "0  As this is the first meeting of the Security C...  \n",
       "1  I should like at the outset of the meeting to ...  \n",
       "2  First, Mr. President, let me welcome you to yo...  \n",
       "3  The next speaker is the representative of Croa...  \n",
       "4  Allow me, Sir, to congratulate you on your ass...  "
      ]
     },
     "execution_count": 7,
     "metadata": {},
     "output_type": "execute_result"
    }
   ],
   "source": [
    "data = {\n",
    "    \"basename\": [],\n",
    "    \"speech_id\": [],\n",
    "    \"spv\": [],\n",
    "    \"speech\": []\n",
    "}\n",
    "\n",
    "with tarfile.open('speeches.tar') as tar_file:\n",
    "    \n",
    "    files = tar_file.getmembers()\n",
    "    \n",
    "    for file in files:\n",
    "        file_name = file.name\n",
    "\n",
    "        basename = file_name[:int(file_name.find('_spch'))]\n",
    "        spv = basename[-4:]\n",
    "        speech_id = int(file_name[int(file_name.find('_spch')):].strip('.txt').strip('_spch'))\n",
    "        \n",
    "        speech = str(tar_file.extractfile(file).read())\n",
    "        speech = speech[str(speech).find(':')+2:]\n",
    "\n",
    "        data[\"basename\"].append(basename)\n",
    "        data[\"speech_id\"].append(speech_id)\n",
    "        data[\"spv\"].append(spv)\n",
    "        data[\"speech\"].append(speech)\n",
    "        \n",
    "        extracted_file = tar_file.extractfile(file).read()\n",
    "\n",
    "df_speeches = pd.DataFrame(data)\n",
    "df_speeches[\"speech\"] = df_speeches[\"speech\"].str.replace(r'\\n', ' ')\n",
    "df_speeches.head(5)"
   ]
  },
  {
   "cell_type": "code",
   "execution_count": 8,
   "metadata": {},
   "outputs": [
    {
     "data": {
      "text/plain": [
       "18"
      ]
     },
     "execution_count": 8,
     "metadata": {},
     "output_type": "execute_result"
    }
   ],
   "source": [
    "int(speech_id)"
   ]
  },
  {
   "cell_type": "code",
   "execution_count": 9,
   "metadata": {},
   "outputs": [
    {
     "data": {
      "text/plain": [
       "Index(['basename', 'date', 'num_speeches', 'topic', 'pressrelease', 'outcome',\n",
       "       'year', 'month', 'day'],\n",
       "      dtype='object')"
      ]
     },
     "execution_count": 9,
     "metadata": {},
     "output_type": "execute_result"
    }
   ],
   "source": [
    "meta_session.columns"
   ]
  },
  {
   "cell_type": "code",
   "execution_count": 10,
   "metadata": {},
   "outputs": [
    {
     "data": {
      "text/plain": [
       "Index(['speech', 'country', 'speaker', 'participanttype', 'role_in_un', 'spv',\n",
       "       'basename', 'topic', 'date', 'year', 'month', 'day', 'filename',\n",
       "       'types', 'tokens', 'sentences', 'topic2', 'subtopic', 'agenda_item1',\n",
       "       'agenda_item2', 'agenda_item3', 'decision'],\n",
       "      dtype='object')"
      ]
     },
     "execution_count": 10,
     "metadata": {},
     "output_type": "execute_result"
    }
   ],
   "source": [
    "meta_speaker.columns"
   ]
  },
  {
   "cell_type": "code",
   "execution_count": 11,
   "metadata": {},
   "outputs": [
    {
     "data": {
      "text/plain": [
       "0        UNSC_1995_SPV.3486\n",
       "1        UNSC_1995_SPV.3487\n",
       "2        UNSC_1995_SPV.3487\n",
       "3        UNSC_1995_SPV.3487\n",
       "4        UNSC_1995_SPV.3487\n",
       "                ...        \n",
       "82160    UNSC_2020_SPV.8778\n",
       "82161    UNSC_2020_SPV.8778\n",
       "82162    UNSC_2020_SPV.8778\n",
       "82163    UNSC_2020_SPV.8778\n",
       "82164    UNSC_2020_SPV.8778\n",
       "Name: basename, Length: 82165, dtype: object"
      ]
     },
     "execution_count": 11,
     "metadata": {},
     "output_type": "execute_result"
    }
   ],
   "source": [
    "df_speeches['basename']"
   ]
  },
  {
   "cell_type": "markdown",
   "metadata": {},
   "source": [
    "# UNSC Consolidated csv file"
   ]
  },
  {
   "cell_type": "code",
   "execution_count": 12,
   "metadata": {},
   "outputs": [
    {
     "data": {
      "text/html": [
       "<div>\n",
       "<style scoped>\n",
       "    .dataframe tbody tr th:only-of-type {\n",
       "        vertical-align: middle;\n",
       "    }\n",
       "\n",
       "    .dataframe tbody tr th {\n",
       "        vertical-align: top;\n",
       "    }\n",
       "\n",
       "    .dataframe thead th {\n",
       "        text-align: right;\n",
       "    }\n",
       "</style>\n",
       "<table border=\"1\" class=\"dataframe\">\n",
       "  <thead>\n",
       "    <tr style=\"text-align: right;\">\n",
       "      <th></th>\n",
       "      <th>basename</th>\n",
       "      <th>speech_id</th>\n",
       "      <th>spv</th>\n",
       "      <th>speech</th>\n",
       "      <th>date</th>\n",
       "      <th>topic</th>\n",
       "      <th>year</th>\n",
       "      <th>month</th>\n",
       "      <th>day</th>\n",
       "    </tr>\n",
       "  </thead>\n",
       "  <tbody>\n",
       "    <tr>\n",
       "      <th>0</th>\n",
       "      <td>UNSC_1995_SPV.3486</td>\n",
       "      <td>1</td>\n",
       "      <td>3486</td>\n",
       "      <td>As this is the first meeting of the Security C...</td>\n",
       "      <td>6 January 1995</td>\n",
       "      <td>Bosnia and Herzegovina</td>\n",
       "      <td>1995</td>\n",
       "      <td>1</td>\n",
       "      <td>6</td>\n",
       "    </tr>\n",
       "    <tr>\n",
       "      <th>1</th>\n",
       "      <td>UNSC_1995_SPV.3487</td>\n",
       "      <td>1</td>\n",
       "      <td>3487</td>\n",
       "      <td>I should like at the outset of the meeting to ...</td>\n",
       "      <td>12 January 1995</td>\n",
       "      <td>Federal Republic of Yugoslavia (Serbia and Mon...</td>\n",
       "      <td>1995</td>\n",
       "      <td>1</td>\n",
       "      <td>12</td>\n",
       "    </tr>\n",
       "  </tbody>\n",
       "</table>\n",
       "</div>"
      ],
      "text/plain": [
       "             basename  speech_id   spv  \\\n",
       "0  UNSC_1995_SPV.3486          1  3486   \n",
       "1  UNSC_1995_SPV.3487          1  3487   \n",
       "\n",
       "                                              speech             date  \\\n",
       "0  As this is the first meeting of the Security C...   6 January 1995   \n",
       "1  I should like at the outset of the meeting to ...  12 January 1995   \n",
       "\n",
       "                                               topic  year  month  day  \n",
       "0                             Bosnia and Herzegovina  1995      1    6  \n",
       "1  Federal Republic of Yugoslavia (Serbia and Mon...  1995      1   12  "
      ]
     },
     "execution_count": 12,
     "metadata": {},
     "output_type": "execute_result"
    }
   ],
   "source": [
    "df = pd.merge(left=df_speeches, \n",
    "                     right=meta_session[['basename', 'date','topic','year', 'month', 'day']], \n",
    "                     how='inner', on='basename')\n",
    "\n",
    "df.head(2)"
   ]
  },
  {
   "cell_type": "code",
   "execution_count": 13,
   "metadata": {},
   "outputs": [
    {
     "data": {
      "text/html": [
       "<div>\n",
       "<style scoped>\n",
       "    .dataframe tbody tr th:only-of-type {\n",
       "        vertical-align: middle;\n",
       "    }\n",
       "\n",
       "    .dataframe tbody tr th {\n",
       "        vertical-align: top;\n",
       "    }\n",
       "\n",
       "    .dataframe thead th {\n",
       "        text-align: right;\n",
       "    }\n",
       "</style>\n",
       "<table border=\"1\" class=\"dataframe\">\n",
       "  <thead>\n",
       "    <tr style=\"text-align: right;\">\n",
       "      <th></th>\n",
       "      <th>basename</th>\n",
       "      <th>speech_id</th>\n",
       "      <th>spv</th>\n",
       "      <th>speech</th>\n",
       "      <th>date</th>\n",
       "      <th>topic</th>\n",
       "      <th>year</th>\n",
       "      <th>month</th>\n",
       "      <th>day</th>\n",
       "      <th>country</th>\n",
       "      <th>speaker</th>\n",
       "    </tr>\n",
       "  </thead>\n",
       "  <tbody>\n",
       "    <tr>\n",
       "      <th>0</th>\n",
       "      <td>UNSC_1995_SPV.3486</td>\n",
       "      <td>1</td>\n",
       "      <td>3486</td>\n",
       "      <td>As this is the first meeting of the Security C...</td>\n",
       "      <td>6 January 1995</td>\n",
       "      <td>Bosnia and Herzegovina</td>\n",
       "      <td>1995</td>\n",
       "      <td>1</td>\n",
       "      <td>6</td>\n",
       "      <td>Argentina</td>\n",
       "      <td>Mr. Cardenas</td>\n",
       "    </tr>\n",
       "    <tr>\n",
       "      <th>1</th>\n",
       "      <td>UNSC_1995_SPV.3487</td>\n",
       "      <td>1</td>\n",
       "      <td>3487</td>\n",
       "      <td>I should like at the outset of the meeting to ...</td>\n",
       "      <td>12 January 1995</td>\n",
       "      <td>Federal Republic of Yugoslavia (Serbia and Mon...</td>\n",
       "      <td>1995</td>\n",
       "      <td>1</td>\n",
       "      <td>12</td>\n",
       "      <td>Argentina</td>\n",
       "      <td>Mr. Cardenas</td>\n",
       "    </tr>\n",
       "  </tbody>\n",
       "</table>\n",
       "</div>"
      ],
      "text/plain": [
       "             basename  speech_id   spv  \\\n",
       "0  UNSC_1995_SPV.3486          1  3486   \n",
       "1  UNSC_1995_SPV.3487          1  3487   \n",
       "\n",
       "                                              speech             date  \\\n",
       "0  As this is the first meeting of the Security C...   6 January 1995   \n",
       "1  I should like at the outset of the meeting to ...  12 January 1995   \n",
       "\n",
       "                                               topic  year  month  day  \\\n",
       "0                             Bosnia and Herzegovina  1995      1    6   \n",
       "1  Federal Republic of Yugoslavia (Serbia and Mon...  1995      1   12   \n",
       "\n",
       "     country       speaker  \n",
       "0  Argentina  Mr. Cardenas  \n",
       "1  Argentina  Mr. Cardenas  "
      ]
     },
     "execution_count": 13,
     "metadata": {},
     "output_type": "execute_result"
    }
   ],
   "source": [
    "meta_speaker.rename(columns={\"speech\": \"speech_id\"}, inplace=True)\n",
    "\n",
    "df = pd.merge(left=df,\n",
    "         right=meta_speaker[['speech_id', 'country', 'speaker', 'basename']],\n",
    "         on=['basename', 'speech_id'],\n",
    "         how='inner')\n",
    "\n",
    "df.head(2)"
   ]
  },
  {
   "cell_type": "code",
   "execution_count": 14,
   "metadata": {},
   "outputs": [],
   "source": [
    "df['full_date'] = pd.to_datetime(df[['year', 'month', 'day']])\n",
    "df['month_year'] = pd.to_datetime(df[['year', 'month', 'day']]).dt.strftime('%Y/%m')"
   ]
  },
  {
   "cell_type": "markdown",
   "metadata": {},
   "source": [
    "# Tokenizing"
   ]
  },
  {
   "cell_type": "code",
   "execution_count": 15,
   "metadata": {},
   "outputs": [],
   "source": [
    "def tokenize_text(text):\n",
    "    tokens = word_tokenize(text)\n",
    "    return tokens\n",
    "\n",
    "df['speech_tokenized'] = df['speech'].apply(tokenize_text)"
   ]
  },
  {
   "cell_type": "code",
   "execution_count": 16,
   "metadata": {},
   "outputs": [
    {
     "data": {
      "text/plain": [
       "Index(['basename', 'speech_id', 'spv', 'speech', 'date', 'topic', 'year',\n",
       "       'month', 'day', 'country', 'speaker', 'full_date', 'month_year',\n",
       "       'speech_tokenized'],\n",
       "      dtype='object')"
      ]
     },
     "execution_count": 16,
     "metadata": {},
     "output_type": "execute_result"
    }
   ],
   "source": [
    "df.columns"
   ]
  },
  {
   "cell_type": "code",
   "execution_count": 17,
   "metadata": {},
   "outputs": [],
   "source": [
    "df[['country', 'full_date', 'speech', 'speech_tokenized', 'topic']].to_csv('UNSC.csv', index=False)"
   ]
  }
 ],
 "metadata": {
  "kernelspec": {
   "display_name": "Python 3",
   "language": "python",
   "name": "python3"
  },
  "language_info": {
   "codemirror_mode": {
    "name": "ipython",
    "version": 3
   },
   "file_extension": ".py",
   "mimetype": "text/x-python",
   "name": "python",
   "nbconvert_exporter": "python",
   "pygments_lexer": "ipython3",
   "version": "3.10.7"
  }
 },
 "nbformat": 4,
 "nbformat_minor": 2
}
